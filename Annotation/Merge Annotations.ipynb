{
 "cells": [
  {
   "cell_type": "markdown",
   "metadata": {
    "colab_type": "text",
    "id": "3P6Dq_PKnq66"
   },
   "source": [
    "# Annotated dataset\n",
    "\n",
    "Import and merge files from all annotators:"
   ]
  },
  {
   "cell_type": "code",
   "execution_count": 2,
   "metadata": {
    "colab": {},
    "colab_type": "code",
    "id": "7nUzkHubnq67"
   },
   "outputs": [],
   "source": [
    "import pandas as pd\n",
    "\n",
    "df_karina = pd.read_excel(\"Annotation_Karina.xlsx\")\n",
    "df_yana = pd.read_excel(\"Annotation_Yana.xlsx\")\n",
    "df_polina = pd.read_excel(\"Annotation_Polina.xlsx\")"
   ]
  },
  {
   "cell_type": "code",
   "execution_count": 3,
   "metadata": {
    "colab": {},
    "colab_type": "code",
    "id": "JBjgIYy8nq6_",
    "outputId": "d2bf5a62-0b53-4803-d68e-e6043c960594"
   },
   "outputs": [
    {
     "name": "stdout",
     "output_type": "stream",
     "text": [
      "(500, 15)\n"
     ]
    },
    {
     "data": {
      "text/html": [
       "<div>\n",
       "<style scoped>\n",
       "    .dataframe tbody tr th:only-of-type {\n",
       "        vertical-align: middle;\n",
       "    }\n",
       "\n",
       "    .dataframe tbody tr th {\n",
       "        vertical-align: top;\n",
       "    }\n",
       "\n",
       "    .dataframe thead th {\n",
       "        text-align: right;\n",
       "    }\n",
       "</style>\n",
       "<table border=\"1\" class=\"dataframe\">\n",
       "  <thead>\n",
       "    <tr style=\"text-align: right;\">\n",
       "      <th></th>\n",
       "      <th>dataset</th>\n",
       "      <th>id_a</th>\n",
       "      <th>id_q</th>\n",
       "      <th>meta.pair_idx</th>\n",
       "      <th>text_q</th>\n",
       "      <th>text_a</th>\n",
       "      <th>if_q_1</th>\n",
       "      <th>avoid_rate_1</th>\n",
       "      <th>avoid_type_1</th>\n",
       "      <th>if_q_2</th>\n",
       "      <th>avoid_rate_2</th>\n",
       "      <th>avoid_type_2</th>\n",
       "      <th>if_q_3</th>\n",
       "      <th>avoid_rate_3</th>\n",
       "      <th>avoid_type_3</th>\n",
       "    </tr>\n",
       "  </thead>\n",
       "  <tbody>\n",
       "    <tr>\n",
       "      <th>0</th>\n",
       "      <td>TI</td>\n",
       "      <td>1511_8.a</td>\n",
       "      <td>1511_8.q</td>\n",
       "      <td>1511_8</td>\n",
       "      <td>Which part of the match do you think was the r...</td>\n",
       "      <td>I don't know. I think, obviously, the second s...</td>\n",
       "      <td>Q</td>\n",
       "      <td>0.0</td>\n",
       "      <td>NaN</td>\n",
       "      <td>Q</td>\n",
       "      <td>1.0</td>\n",
       "      <td>NaN</td>\n",
       "      <td>Q</td>\n",
       "      <td>0.0</td>\n",
       "      <td>NaN</td>\n",
       "    </tr>\n",
       "  </tbody>\n",
       "</table>\n",
       "</div>"
      ],
      "text/plain": [
       "  dataset      id_a      id_q meta.pair_idx  \\\n",
       "0      TI  1511_8.a  1511_8.q        1511_8   \n",
       "\n",
       "                                              text_q  \\\n",
       "0  Which part of the match do you think was the r...   \n",
       "\n",
       "                                              text_a if_q_1  avoid_rate_1  \\\n",
       "0  I don't know. I think, obviously, the second s...      Q           0.0   \n",
       "\n",
       "  avoid_type_1 if_q_2  avoid_rate_2 avoid_type_2 if_q_3  avoid_rate_3  \\\n",
       "0          NaN      Q           1.0          NaN      Q           0.0   \n",
       "\n",
       "  avoid_type_3  \n",
       "0          NaN  "
      ]
     },
     "execution_count": 3,
     "metadata": {},
     "output_type": "execute_result"
    }
   ],
   "source": [
    "common_cols = ['dataset','id_a', 'id_q', 'meta.pair_idx', 'text_q', 'text_a']\n",
    "annotated = pd.merge(df_karina, df_yana, how='left', left_on=common_cols, right_on=common_cols)\n",
    "annotated = pd.merge(annotated, df_polina, how='left', left_on=common_cols, right_on=common_cols)\n",
    "\n",
    "annotated.columns = common_cols + ['if_q_1', 'avoid_rate_1', 'avoid_type_1', \n",
    "                                  'if_q_2', 'avoid_rate_2', 'avoid_type_2',\n",
    "                                  'if_q_3', 'avoid_rate_3', 'avoid_type_3']\n",
    "print(annotated.shape)\n",
    "annotated.head(1)"
   ]
  },
  {
   "cell_type": "markdown",
   "metadata": {
    "colab_type": "text",
    "id": "4lOqE-jqnq7D"
   },
   "source": [
    "Remove non-questions based on majority value, count the average rate and type of avoidance:"
   ]
  },
  {
   "cell_type": "code",
   "execution_count": 4,
   "metadata": {
    "colab": {},
    "colab_type": "code",
    "id": "IPAf-uOTnq7E",
    "outputId": "fdfda259-28c8-4da4-da34-ed45466ca5a5"
   },
   "outputs": [
    {
     "data": {
      "text/plain": [
       "424"
      ]
     },
     "execution_count": 4,
     "metadata": {},
     "output_type": "execute_result"
    }
   ],
   "source": [
    "# Filter non-questions\n",
    "ann = annotated[(annotated[['if_q_1','if_q_2','if_q_3']] == 'NQ').sum(axis=1) < 2]\n",
    "ann = ann.reset_index()\n",
    "ann.shape[0]"
   ]
  },
  {
   "cell_type": "code",
   "execution_count": 5,
   "metadata": {
    "colab": {},
    "colab_type": "code",
    "id": "ccNOd24Cnq7H"
   },
   "outputs": [],
   "source": [
    "# Count average rate of avoidance\n",
    "ann['avoid_rate_avg'] = (ann[['avoid_rate_1','avoid_rate_2','avoid_rate_3']]).mean(axis=1)"
   ]
  },
  {
   "cell_type": "code",
   "execution_count": 6,
   "metadata": {
    "colab": {},
    "colab_type": "code",
    "id": "WyZF5BOBnq7K"
   },
   "outputs": [],
   "source": [
    "# Determine type of avoidance based on majority choice\n",
    "def conditions(s):\n",
    "    flight = (s == 'Flight').sum()\n",
    "    fight = (s == 'Fight').sum()\n",
    "    \n",
    "    if flight > fight:\n",
    "        return 'Flight'\n",
    "    elif flight < fight:\n",
    "        return 'Fight'\n",
    "    # case when flight=fight\n",
    "    elif flight > 0:\n",
    "        return 'Undetermined'\n",
    "    else:\n",
    "        return 'NaN'\n",
    "\n",
    "\n",
    "ann['avoid_type_avg'] = ann[['avoid_type_1','avoid_type_2','avoid_type_3']].apply(conditions, axis=1)"
   ]
  },
  {
   "cell_type": "markdown",
   "metadata": {
    "colab_type": "text",
    "id": "-evKlDV-nq7M"
   },
   "source": [
    "## Statistics\n",
    "\n",
    "There are 424 QA-pairs in total."
   ]
  },
  {
   "cell_type": "code",
   "execution_count": 7,
   "metadata": {
    "colab": {},
    "colab_type": "code",
    "id": "Z2CwE_ldnq7N",
    "outputId": "4b4cd224-1769-4c3e-e3f8-116dd69aee49"
   },
   "outputs": [
    {
     "data": {
      "text/plain": [
       "83"
      ]
     },
     "execution_count": 7,
     "metadata": {},
     "output_type": "execute_result"
    }
   ],
   "source": [
    "# One of the annotators marked it as a non-question\n",
    "ann[(ann[['if_q_1','if_q_2','if_q_3']] == 'NQ').any(axis=1)].shape[0]"
   ]
  },
  {
   "cell_type": "code",
   "execution_count": 8,
   "metadata": {
    "colab": {},
    "colab_type": "code",
    "id": "QhyG1TEEnq7Q",
    "outputId": "45ce4ed3-3a53-4e5d-9e7b-b7343fe2770a"
   },
   "outputs": [
    {
     "name": "stdout",
     "output_type": "stream",
     "text": [
      "Rather avoidance:\n",
      "174\n",
      "Rather non-avoidance:\n",
      "228\n",
      "Undetermined:\n",
      "22\n"
     ]
    }
   ],
   "source": [
    "print(\"Rather avoidance:\")\n",
    "print(ann[ann['avoid_rate_avg'] > 2.0].shape[0])\n",
    "print(\"Rather non-avoidance:\")\n",
    "print(ann[ann['avoid_rate_avg'] < 2.0].shape[0])\n",
    "print(\"Undetermined:\")\n",
    "print(ann[ann['avoid_rate_avg'] == 2.0].shape[0])"
   ]
  },
  {
   "cell_type": "code",
   "execution_count": null,
   "metadata": {
    "colab": {},
    "colab_type": "code",
    "id": "X3PEUZDQnq7T",
    "outputId": "bee18e69-db7a-4aa6-f4ec-663ea6ce35bf"
   },
   "outputs": [
    {
     "name": "stdout",
     "output_type": "stream",
     "text": [
      "Definitely avoidance:\n",
      "55\n",
      "Definitely non-avoidance:\n",
      "135\n"
     ]
    }
   ],
   "source": [
    "# Tails\n",
    "print(\"Definitely avoidance:\")\n",
    "print(ann[ann['avoid_rate_avg'] > 3.5].shape[0])\n",
    "print(\"Definitely non-avoidance:\")\n",
    "print(ann[ann['avoid_rate_avg'] < 0.5].shape[0])"
   ]
  },
  {
   "cell_type": "code",
   "execution_count": 9,
   "metadata": {
    "colab": {},
    "colab_type": "code",
    "id": "PzjaO4i1nq7V",
    "outputId": "87eb29d3-e4bb-4c25-8272-fac07cf7f34c"
   },
   "outputs": [
    {
     "name": "stdout",
     "output_type": "stream",
     "text": [
      "Fight cases:\n",
      "30\n",
      "Flight cases:\n",
      "204\n",
      "Undetermined cases:\n",
      "23\n",
      "Not rated by any annotator:\n",
      "167\n"
     ]
    }
   ],
   "source": [
    "def type_stats(df):\n",
    "    print(\"Fight cases:\")\n",
    "    print(df[df['avoid_type_avg'] == 'Fight'].shape[0])\n",
    "    print(\"Flight cases:\")\n",
    "    print(df[df['avoid_type_avg'] == 'Flight'].shape[0])\n",
    "    print(\"Undetermined cases:\")\n",
    "    print(df[df['avoid_type_avg'] == 'Undetermined'].shape[0])\n",
    "    print(\"Not rated by any annotator:\")\n",
    "    print(df[df['avoid_type_avg'] == 'NaN'].shape[0])\n",
    "    \n",
    "type_stats(ann)"
   ]
  },
  {
   "cell_type": "code",
   "execution_count": 10,
   "metadata": {
    "colab": {},
    "colab_type": "code",
    "id": "6hw8qIa9nq7Y",
    "outputId": "f02391aa-76ee-46f9-9249-2fa0a7ed9a63"
   },
   "outputs": [
    {
     "name": "stdout",
     "output_type": "stream",
     "text": [
      "Fight cases:\n",
      "21\n",
      "Flight cases:\n",
      "131\n",
      "Undetermined cases:\n",
      "22\n",
      "Not rated by any annotator:\n",
      "0\n"
     ]
    }
   ],
   "source": [
    "# For rather avoidance subset\n",
    "ann_avoided = ann[ann['avoid_rate_avg'] > 2.0]\n",
    "type_stats(ann_avoided)"
   ]
  },
  {
   "cell_type": "code",
   "execution_count": 11,
   "metadata": {
    "colab": {},
    "colab_type": "code",
    "id": "Vu6EoHaEnq7a",
    "outputId": "529d40dc-7bae-4ed5-eb66-7136fb905da7"
   },
   "outputs": [
    {
     "name": "stdout",
     "output_type": "stream",
     "text": [
      "51\n",
      "\n",
      "Fight cases:\n",
      "5\n",
      "Flight cases:\n",
      "38\n",
      "Undetermined cases:\n",
      "8\n",
      "Not rated by any annotator:\n",
      "0\n"
     ]
    }
   ],
   "source": [
    "# One of the annotators marked it as a non-question\n",
    "ann_nq = ann_avoided[(ann_avoided[['if_q_1','if_q_2','if_q_3']] == 'NQ').any(axis=1)]\n",
    "print(ann_nq.shape[0])\n",
    "print()\n",
    "type_stats(ann_nq)"
   ]
  },
  {
   "cell_type": "markdown",
   "metadata": {
    "colab_type": "text",
    "id": "uyphEB76nq7d"
   },
   "source": [
    "## Create files"
   ]
  },
  {
   "cell_type": "code",
   "execution_count": null,
   "metadata": {
    "colab": {},
    "colab_type": "code",
    "id": "IXg_STEonq7e"
   },
   "outputs": [],
   "source": [
    "ann.to_csv('Avoidance_annotated.csv', index=False)\n",
    "\n",
    "ann_avoided.to_csv('Avoidance_annotated_avoided.csv', index=False)\n",
    "\n",
    "ann_avoided[ann_avoided['avoid_type_avg'] == 'Fight'].to_csv('Avoidance_annotated_avoided_fight.csv', index=False)\n",
    "ann_avoided[ann_avoided['avoid_type_avg'] == 'Flight'].to_csv('Avoidance_annotated_avoided_flight.csv', index=False)\n",
    "\n",
    "ann_avoided[ann_avoided['avoid_type_avg'] == 'Undetermined'].to_csv('Avoidance_annotated_avoided_undetermined.csv', index=False)\n",
    "\n",
    "ann_notavoided = ann[ann['avoid_rate_avg'] < 2.0]\n",
    "ann_notavoided.to_csv('Avoidance_annotated_notavoided.csv', index=False)"
   ]
  },
  {
   "cell_type": "code",
   "execution_count": null,
   "metadata": {
    "colab": {},
    "colab_type": "code",
    "id": "XKprsKvTnq7g"
   },
   "outputs": [],
   "source": []
  }
 ],
 "metadata": {
  "colab": {
   "name": "Merge Annotations.ipynb",
   "provenance": []
  },
  "kernelspec": {
   "display_name": "Python 3",
   "language": "python",
   "name": "python3"
  },
  "language_info": {
   "codemirror_mode": {
    "name": "ipython",
    "version": 3
   },
   "file_extension": ".py",
   "mimetype": "text/x-python",
   "name": "python",
   "nbconvert_exporter": "python",
   "pygments_lexer": "ipython3",
   "version": "3.8.2"
  }
 },
 "nbformat": 4,
 "nbformat_minor": 1
}
