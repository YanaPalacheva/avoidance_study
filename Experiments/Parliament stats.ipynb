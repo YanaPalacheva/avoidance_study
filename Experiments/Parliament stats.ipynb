{
 "cells": [
  {
   "cell_type": "code",
   "execution_count": 37,
   "metadata": {},
   "outputs": [],
   "source": [
    "import pandas as pd\n",
    "import numpy as np"
   ]
  },
  {
   "cell_type": "code",
   "execution_count": 3,
   "metadata": {},
   "outputs": [],
   "source": [
    "df_ann = pd.read_csv(\"avoidance_study//Annotated//Avoidance_annotated.csv\")"
   ]
  },
  {
   "cell_type": "code",
   "execution_count": 26,
   "metadata": {},
   "outputs": [],
   "source": [
    "df_parl = pd.read_csv(\"parliament_metadata.tsv\", sep='\\t')"
   ]
  },
  {
   "cell_type": "code",
   "execution_count": 28,
   "metadata": {},
   "outputs": [],
   "source": [
    "d = {'thatcher': 'conservative', \n",
    "    'major': 'conservative',\n",
    "    'blair': 'labour',\n",
    "    'brown': 'labour',\n",
    "    'cameron': 'conservative',\n",
    "    'may': 'conservative'}\n",
    "\n",
    "def cond_ask(s):\n",
    "    if s['party_asker'] == d[s['govt']]:\n",
    "        return False\n",
    "    return True\n",
    "    \n",
    "df_parl['opposition_asker'] = df_parl.apply(cond_ask, axis=1)\n",
    "\n",
    "def cond_ans(s):\n",
    "    if s['party_answerer'] == d[s['govt']]:\n",
    "        return False\n",
    "    return True\n",
    "    \n",
    "df_parl['opposition_answerer'] = df_parl.apply(cond_ans, axis=1)"
   ]
  },
  {
   "cell_type": "code",
   "execution_count": 29,
   "metadata": {},
   "outputs": [],
   "source": [
    "df_ann = df_ann[df_ann['dataset'] == \"PQTC\"]\n",
    "df_parl = df_parl[['pair_idx', 'opposition_asker', 'opposition_answerer']]\n",
    "# common_cols = ['dataset','id_a', 'id_q', 'meta.pair_idx', 'text_q', 'text_a']\n",
    "df = pd.merge(df_ann, df_parl, how='left', left_on='meta.pair_idx', right_on='pair_idx')"
   ]
  },
  {
   "cell_type": "code",
   "execution_count": 60,
   "metadata": {},
   "outputs": [],
   "source": [
    "df = df[(df['if_q_1'] == 'Q') & (df['if_q_2'] == 'Q') & (df['if_q_3'] == 'Q')]"
   ]
  },
  {
   "cell_type": "code",
   "execution_count": 61,
   "metadata": {},
   "outputs": [
    {
     "name": "stdout",
     "output_type": "stream",
     "text": [
      "Q opp, A gov:  (31, 21) \n",
      "Q gov, A gov:  (36, 21) \n",
      "Q opp, A opp:  (70, 21) \n",
      "Q gov, A opp:  (2, 21)\n"
     ]
    }
   ],
   "source": [
    "df_og = df[(df['opposition_asker'] == True) & (df['opposition_answerer'] == False)]\n",
    "df_gg = df[(df['opposition_asker'] == False) & (df['opposition_answerer'] == False)]\n",
    "df_oo = df[(df['opposition_asker'] == True) & (df['opposition_answerer'] == True)]\n",
    "df_go = df[(df['opposition_asker'] == False) & (df['opposition_answerer'] == True)]\n",
    "\n",
    "print('Q opp, A gov: ', df_og.shape, \n",
    "      '\\nQ gov, A gov: ', df_gg.shape, \n",
    "      '\\nQ opp, A opp: ', df_oo.shape, \n",
    "      '\\nQ gov, A opp: ', df_go.shape)"
   ]
  },
  {
   "cell_type": "code",
   "execution_count": 69,
   "metadata": {},
   "outputs": [
    {
     "name": "stdout",
     "output_type": "stream",
     "text": [
      "Mean:  2.946236559139785 \n",
      "Definite avoidance:  20  from  31\n",
      "Mean:  2.453703703703704 \n",
      "Definite avoidance:  14  from  36\n",
      "Mean:  2.4809523809523815 \n",
      "Definite avoidance:  34  from  70\n",
      "Mean:  2.0 \n",
      "Definite avoidance:  0  from  2\n"
     ]
    }
   ],
   "source": [
    "# Count average rate of avoidance\n",
    "print('Mean: ', df_og['avoid_rate_avg'].mean(), \n",
    "      '\\nDefinite avoidance: ', df_og[df_og['avoid_rate_avg'] >= 3].shape[0],\n",
    "      ' from ', df_og['avoid_rate_avg'].shape[0])\n",
    "print('Mean: ', df_gg['avoid_rate_avg'].mean(), \n",
    "      '\\nDefinite avoidance: ', df_gg[df_gg['avoid_rate_avg'] >= 3].shape[0],\n",
    "      ' from ', df_gg['avoid_rate_avg'].shape[0])\n",
    "print('Mean: ', df_oo['avoid_rate_avg'].mean(), \n",
    "      '\\nDefinite avoidance: ', df_oo[df_oo['avoid_rate_avg'] >= 3].shape[0],\n",
    "      ' from ', df_oo['avoid_rate_avg'].shape[0])\n",
    "print('Mean: ', df_go['avoid_rate_avg'].mean(), \n",
    "      '\\nDefinite avoidance: ', df_go[df_go['avoid_rate_avg'] >= 3].shape[0],\n",
    "      ' from ', df_go['avoid_rate_avg'].shape[0])"
   ]
  },
  {
   "cell_type": "code",
   "execution_count": 64,
   "metadata": {},
   "outputs": [
    {
     "data": {
      "text/html": [
       "<div>\n",
       "<style scoped>\n",
       "    .dataframe tbody tr th:only-of-type {\n",
       "        vertical-align: middle;\n",
       "    }\n",
       "\n",
       "    .dataframe tbody tr th {\n",
       "        vertical-align: top;\n",
       "    }\n",
       "\n",
       "    .dataframe thead th {\n",
       "        text-align: right;\n",
       "    }\n",
       "</style>\n",
       "<table border=\"1\" class=\"dataframe\">\n",
       "  <thead>\n",
       "    <tr style=\"text-align: right;\">\n",
       "      <th></th>\n",
       "      <th>index</th>\n",
       "      <th>dataset</th>\n",
       "      <th>id_a</th>\n",
       "      <th>id_q</th>\n",
       "      <th>meta.pair_idx</th>\n",
       "      <th>text_q</th>\n",
       "      <th>text_a</th>\n",
       "      <th>if_q_1</th>\n",
       "      <th>avoid_rate_1</th>\n",
       "      <th>avoid_type_1</th>\n",
       "      <th>...</th>\n",
       "      <th>avoid_rate_2</th>\n",
       "      <th>avoid_type_2</th>\n",
       "      <th>if_q_3</th>\n",
       "      <th>avoid_rate_3</th>\n",
       "      <th>avoid_type_3</th>\n",
       "      <th>avoid_rate_avg</th>\n",
       "      <th>avoid_type_avg</th>\n",
       "      <th>pair_idx</th>\n",
       "      <th>opposition_asker</th>\n",
       "      <th>opposition_answerer</th>\n",
       "    </tr>\n",
       "  </thead>\n",
       "  <tbody>\n",
       "    <tr>\n",
       "      <td>107</td>\n",
       "      <td>301</td>\n",
       "      <td>PQTC</td>\n",
       "      <td>1997-07-07a.597.4</td>\n",
       "      <td>1997-07-07a.612.3</td>\n",
       "      <td>1997-07-07.15.0</td>\n",
       "      <td>I thank my hon Friend for his reply . I take t...</td>\n",
       "      <td>I should be delighted to consider those propos...</td>\n",
       "      <td>Q</td>\n",
       "      <td>4.0</td>\n",
       "      <td>Flight</td>\n",
       "      <td>...</td>\n",
       "      <td>1.0</td>\n",
       "      <td>NaN</td>\n",
       "      <td>Q</td>\n",
       "      <td>0.0</td>\n",
       "      <td>NaN</td>\n",
       "      <td>1.666667</td>\n",
       "      <td>Flight</td>\n",
       "      <td>1997-07-07.15.0</td>\n",
       "      <td>False</td>\n",
       "      <td>True</td>\n",
       "    </tr>\n",
       "    <tr>\n",
       "      <td>149</td>\n",
       "      <td>404</td>\n",
       "      <td>PQTC</td>\n",
       "      <td>1998-07-13a.14.4</td>\n",
       "      <td>1998-07-13a.14.1</td>\n",
       "      <td>1998-07-13.11.0</td>\n",
       "      <td>I thank my hon Friend for that reply . Does he...</td>\n",
       "      <td>I shall certainly bear in mind the points that...</td>\n",
       "      <td>Q</td>\n",
       "      <td>3.0</td>\n",
       "      <td>Fight</td>\n",
       "      <td>...</td>\n",
       "      <td>3.0</td>\n",
       "      <td>Flight</td>\n",
       "      <td>Q</td>\n",
       "      <td>1.0</td>\n",
       "      <td>NaN</td>\n",
       "      <td>2.333333</td>\n",
       "      <td>Undetermined</td>\n",
       "      <td>1998-07-13.11.0</td>\n",
       "      <td>False</td>\n",
       "      <td>True</td>\n",
       "    </tr>\n",
       "  </tbody>\n",
       "</table>\n",
       "<p>2 rows × 21 columns</p>\n",
       "</div>"
      ],
      "text/plain": [
       "     index dataset               id_a               id_q    meta.pair_idx  \\\n",
       "107    301    PQTC  1997-07-07a.597.4  1997-07-07a.612.3  1997-07-07.15.0   \n",
       "149    404    PQTC   1998-07-13a.14.4   1998-07-13a.14.1  1998-07-13.11.0   \n",
       "\n",
       "                                                text_q  \\\n",
       "107  I thank my hon Friend for his reply . I take t...   \n",
       "149  I thank my hon Friend for that reply . Does he...   \n",
       "\n",
       "                                                text_a if_q_1  avoid_rate_1  \\\n",
       "107  I should be delighted to consider those propos...      Q           4.0   \n",
       "149  I shall certainly bear in mind the points that...      Q           3.0   \n",
       "\n",
       "    avoid_type_1  ... avoid_rate_2  avoid_type_2 if_q_3 avoid_rate_3  \\\n",
       "107       Flight  ...          1.0           NaN      Q          0.0   \n",
       "149        Fight  ...          3.0        Flight      Q          1.0   \n",
       "\n",
       "     avoid_type_3 avoid_rate_avg  avoid_type_avg         pair_idx  \\\n",
       "107           NaN       1.666667          Flight  1997-07-07.15.0   \n",
       "149           NaN       2.333333    Undetermined  1998-07-13.11.0   \n",
       "\n",
       "    opposition_asker  opposition_answerer  \n",
       "107            False                 True  \n",
       "149            False                 True  \n",
       "\n",
       "[2 rows x 21 columns]"
      ]
     },
     "execution_count": 64,
     "metadata": {},
     "output_type": "execute_result"
    }
   ],
   "source": [
    "df_go"
   ]
  },
  {
   "cell_type": "code",
   "execution_count": 65,
   "metadata": {},
   "outputs": [
    {
     "data": {
      "text/plain": [
       "Text(0.5, 0, 'Avoidance rate')"
      ]
     },
     "execution_count": 65,
     "metadata": {},
     "output_type": "execute_result"
    },
    {
     "data": {
      "image/png": "[encoded data removed]",
      "text/plain": [
       "<Figure size 1080x360 with 3 Axes>"
      ]
     },
     "metadata": {
      "needs_background": "light"
     },
     "output_type": "display_data"
    }
   ],
   "source": [
    "import matplotlib.pyplot as plt\n",
    "\n",
    "fig, (ax1, ax2, ax3) = plt.subplots(1, 3, figsize=(15,5))\n",
    "ax1.hist(df_og['avoid_rate_avg'])\n",
    "ax1.set_title(\"Opposition asks, Government answers\")\n",
    "ax1.set_xlabel(\"Avoidance rate\")\n",
    "ax2.hist(df_gg['avoid_rate_avg'])\n",
    "ax2.set_title(\"Government asks, Government answers\")\n",
    "ax2.set_xlabel(\"Avoidance rate\")\n",
    "ax3.hist(df_oo['avoid_rate_avg'])\n",
    "ax3.set_title(\"Opposition asks, Opposition answers\")\n",
    "ax3.set_xlabel(\"Avoidance rate\")"
   ]
  },
  {
   "cell_type": "code",
   "execution_count": null,
   "metadata": {},
   "outputs": [],
   "source": []
  }
 ],
 "metadata": {
  "kernelspec": {
   "display_name": "Python 3",
   "language": "python",
   "name": "python3"
  },
  "language_info": {
   "codemirror_mode": {
    "name": "ipython",
    "version": 3
   },
   "file_extension": ".py",
   "mimetype": "text/x-python",
   "name": "python",
   "nbconvert_exporter": "python",
   "pygments_lexer": "ipython3",
   "version": "3.7.4"
  }
 },
 "nbformat": 4,
 "nbformat_minor": 2
}
