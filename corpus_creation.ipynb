{
 "cells": [
  {
   "cell_type": "markdown",
   "metadata": {},
   "source": [
    "## Avoidance study: datasets to convokit-style corpora, augmentation with dependency arcs"
   ]
  },
  {
   "cell_type": "code",
   "execution_count": 1,
   "metadata": {},
   "outputs": [],
   "source": [
    "import pandas as pd\n",
    "import numpy as np\n",
    "import os\n",
    "from convokit import Corpus, Utterance, Speaker"
   ]
  },
  {
   "cell_type": "code",
   "execution_count": 14,
   "metadata": {},
   "outputs": [],
   "source": [
    "def add_scores(df):\n",
    "    # will be filled later\n",
    "    return df"
   ]
  },
  {
   "cell_type": "code",
   "execution_count": 16,
   "metadata": {},
   "outputs": [],
   "source": [
    "# todo: test 'path'\n",
    "ANN_PATH = 'Annotated\\\\'\n",
    "\n",
    "def make_corpus(full=False, avoided=False, type='', add_scores=False, path=''):\n",
    "    if full:\n",
    "        df = pd.read_csv(path+\"Avoidance_annotated.csv\")\n",
    "    else:\n",
    "        if not avoided:\n",
    "            df = pd.read_csv(path+\"Avoidance_annotated_notavoided.csv\")\n",
    "        elif not type:\n",
    "            df = pd.read_csv(path+\"Avoidance_annotated_avoided.csv\")\n",
    "        else:\n",
    "            df = pd.read_csv(path+f\"Avoidance_annotated_avoided_{type}.csv\")\n",
    "    df = df.replace(r'^\\s*$', np.nan, regex=True)\n",
    "    if add_scores:\n",
    "        df = add_scores(df)\n",
    "    utt_list = []\n",
    "    meta_conversations = {}\n",
    "    for ind, row in df.iterrows():\n",
    "        meta_conversations[row['id_q']] = {'dataset':row['dataset'], 'meta.pair_idx':row['meta.pair_idx'],\n",
    "              'if_q_1':row['if_q_1'], 'avoid_rate_1':row['avoid_rate_1'], 'avoid_type_1':row['avoid_type_1'],\n",
    "              'if_q_2':row['if_q_2'], 'avoid_rate_2':row['avoid_rate_2'], 'avoid_type_2':row['avoid_type_2'],\n",
    "              'if_q_3':row['if_q_3'], 'avoid_rate_3':row['avoid_rate_3'], 'avoid_type_3':row['avoid_type_3'],\n",
    "              'avoid_rate_avg':row['avoid_rate_avg'], 'avoid_type_avg':row['avoid_type_avg']}\n",
    "        if add_scores:\n",
    "            meta_conversations[row['id_q']].update([('levenstein_dist': row['lev_dist']), \n",
    "                                                    ('levenstein_dist_first2': row['lev_dist_first2'])])\n",
    "            meta_a = {'negation_score': row['ans_negations'], 'sentiment_score': row['ans_sentiment'], \n",
    "                      'negation_score_first2': row['ans_negations_first2'],\n",
    "                      'sentiment_score_first2': row['ans_sentiment_first2']}\n",
    "            utt_a = Utterance(id=row['id_q'], root=row['id_q'], text=row['text_q'], speaker=Speaker(name=\"question\"), meta=meta_a)\n",
    "        else:\n",
    "            utt_a = Utterance(id=row['id_q'], root=row['id_q'], text=row['text_q'], speaker=Speaker(name=\"question\"))\n",
    "            \n",
    "        utt_q = Utterance(id=row['id_a'], root=row['id_q'], reply_to=row['id_q'], text=row['text_a'], speaker=Speaker(name=\"answerer\"))\n",
    "        utt_list += [utt_a, utt_q]\n",
    "        \n",
    "    corpus = Corpus(utterances = utt_list)\n",
    "    for conv in corpus.iter_conversations():\n",
    "        conv.meta.update(meta_conversations[conv.get_id()])\n",
    "    return corpus"
   ]
  },
  {
   "cell_type": "markdown",
   "metadata": {},
   "source": [
    "Now we have corpora containing data from our annotated csvs. Next steps - preprocessing."
   ]
  },
  {
   "cell_type": "code",
   "execution_count": 4,
   "metadata": {},
   "outputs": [],
   "source": [
    "corpus_all = make_corpus(full=True, path=ANN_PATH)\n",
    "corpus_avoided = make_corpus(avoided=True, path=ANN_PATH)\n",
    "corpus_not_avoided = make_corpus(avoided=False, path=ANN_PATH)\n",
    "corpus_avoided_fight = make_corpus(avoided=True, type='fight', path=ANN_PATH)\n",
    "corpus_avoided_flight = make_corpus(avoided=True, type='flight', path=ANN_PATH)"
   ]
  },
  {
   "cell_type": "markdown",
   "metadata": {},
   "source": [
    "It's possible to save the corpora as they are: containing pure annotation data. Just uncomment the following lines and run the cell."
   ]
  },
  {
   "cell_type": "code",
   "execution_count": null,
   "metadata": {},
   "outputs": [],
   "source": [
    "# corpus_all.dump('full-avoidance-corpus', base_path=os.getcwd()+'\\\\'+ANN_PATH)\n",
    "# corpus_avoided.dump('avoidance-corpus', base_path=os.getcwd()+'\\\\'+ANN_PATH)\n",
    "# corpus_not_avoided.dump('non-avoidance-corpus', base_path=os.getcwd()+'\\\\'+ANN_PATH)\n",
    "# corpus_avoided_fight.dump('fight-corpus', base_path=os.getcwd()+'\\\\'+ANN_PATH)\n",
    "# corpus_avoided_flight.dump('flight-corpus', base_path=os.getcwd()+'\\\\'+ANN_PATH)"
   ]
  },
  {
   "cell_type": "markdown",
   "metadata": {},
   "source": [
    "### Adding linguistic scores\n",
    "Adding negation, sentiment (for answers) and similarity (for q-a pairs) scores as metadata."
   ]
  },
  {
   "cell_type": "code",
   "execution_count": 20,
   "metadata": {},
   "outputs": [
    {
     "name": "stderr",
     "output_type": "stream",
     "text": [
      "[nltk_data] Downloading package vader_lexicon to\n",
      "[nltk_data]     C:\\Users\\Yana\\AppData\\Roaming\\nltk_data...\n",
      "[nltk_data]   Package vader_lexicon is already up-to-date!\n"
     ]
    }
   ],
   "source": [
    "import en_core_web_sm\n",
    "import spacy\n",
    "import nltk\n",
    "nltk.download('vader_lexicon')\n",
    "from nltk.sentiment.vader import SentimentIntensityAnalyzer\n",
    "from nltk import tokenize\n",
    "from nltk.metrics import edit_distance\n",
    "\n",
    "def sentiment_score(s):\n",
    "    sid = SentimentIntensityAnalyzer()\n",
    "    sentences = tokenize.sent_tokenize(s)\n",
    "    scores = []\n",
    "    for sentence in sentences:\n",
    "        scores.append(sid.polarity_scores(sentence)['compound'])\n",
    "    return sum(scores)/len(scores)\n",
    "\n",
    "def sentiment_score2(s):\n",
    "    sid = SentimentIntensityAnalyzer()\n",
    "    sentences = tokenize.sent_tokenize(s)\n",
    "    scores = []\n",
    "    for sentence in sentences[:2]:\n",
    "        scores.append(sid.polarity_scores(sentence)['compound'])\n",
    "    return sum(scores)/len(scores)\n",
    "\n",
    "def neg_score(s):\n",
    "    doc = nlp(s)\n",
    "    negation = [tok for tok in doc if tok.dep_ == 'neg']\n",
    "    return(len(negation))\n",
    "\n",
    "def neg_score2(s):\n",
    "    doc = nlp(s)\n",
    "    sents = list(doc.sents)\n",
    "    if len(sents) > 2:\n",
    "        ss = sents[0].string.strip() + sents[1].string.strip()\n",
    "        doc = nlp(ss)\n",
    "    negation = [tok for tok in doc if tok.dep_ == 'neg']\n",
    "    return(len(negation))\n",
    "\n",
    "def levenstein_dist(row):\n",
    "    return edit_distance(row['text_q'], row['text_a'])\n",
    "\n",
    "def levenstein_dist2(row):\n",
    "    q = tokenize.sent_tokenize(row['text_q'])[:2]\n",
    "    a = tokenize.sent_tokenize(row['text_a'])[:2]\n",
    "    return edit_distance(q, a)\n",
    "\n",
    "def add_scores(df):\n",
    "    # Negation score for answers (full text and first two sentences)\n",
    "    nlp = en_core_web_sm.load()\n",
    "    df['ans_negations'] = df['text_a'].apply(neg_score)\n",
    "    df['ans_negations_first2'] = df['text_a'].apply(neg_score2)\n",
    "    # Sentiment score for answers (full text and first two sentences)\n",
    "    df['ans_sentiment'] = df['text_a'].apply(sentiment_score)\n",
    "    df['ans_sentiment_first2'] = df['text_a'].apply(sentiment_score2)\n",
    "    # Levenstein distance between question and answer (full text and first two sentences)\n",
    "    df['lev_dist'] = df.apply(levenstein_dist, axis=1)\n",
    "    df['lev_dist_first2'] = df.apply(levenstein_dist2, axis=1)\n",
    "    return df"
   ]
  },
  {
   "cell_type": "code",
   "execution_count": null,
   "metadata": {},
   "outputs": [],
   "source": [
    "# corpus_all = make_corpus(full=True, add_scores=True, path=ANN_PATH)\n",
    "# corpus_avoided = make_corpus(avoided=True, add_scores=True, path=ANN_PATH)\n",
    "# corpus_not_avoided = make_corpus(avoided=False, add_scores=True, path=ANN_PATH)\n",
    "# corpus_avoided_fight = make_corpus(avoided=True, type='fight', add_scores=True, path=ANN_PATH)\n",
    "# corpus_avoided_flight = make_corpus(avoided=True, type='flight', add_scores=True, path=ANN_PATH)\n",
    "\n",
    "# corpus_all.dump('full-avoidance-corpus', base_path=os.getcwd()+'\\\\'+ANN_PATH)\n",
    "# corpus_avoided.dump('avoidance-corpus', base_path=os.getcwd()+'\\\\'+ANN_PATH)\n",
    "# corpus_not_avoided.dump('non-avoidance-corpus', base_path=os.getcwd()+'\\\\'+ANN_PATH)\n",
    "# corpus_avoided_fight.dump('fight-corpus', base_path=os.getcwd()+'\\\\'+ANN_PATH)\n",
    "# corpus_avoided_flight.dump('flight-corpus', base_path=os.getcwd()+'\\\\'+ANN_PATH)"
   ]
  },
  {
   "cell_type": "markdown",
   "metadata": {},
   "source": [
    "### Convokit's politeness score"
   ]
  },
  {
   "cell_type": "code",
   "execution_count": null,
   "metadata": {},
   "outputs": [],
   "source": [
    "from convokit import TextParser\n",
    "\n",
    "parser = TextParser(verbosity=1000)\n",
    "corpus_all = parser.transform(corpus_all)\n",
    "\n",
    "from convokit import PolitenessStrategies\n",
    "\n",
    "ps = PolitenessStrategies()\n",
    "corpus_all = ps.transform(corpus_all, markers=True)"
   ]
  },
  {
   "cell_type": "code",
   "execution_count": null,
   "metadata": {},
   "outputs": [],
   "source": [
    "# Downloading the wikipedia portion of annotated data\n",
    "wiki_corpus = Corpus(download(\"wikipedia-politeness-corpus\"))\n",
    "wiki_corpus = parser.transform(wiki_corpus)\n",
    "wiki_corpus = ps.transform(wiki_corpus, markers=True)"
   ]
  },
  {
   "cell_type": "code",
   "execution_count": null,
   "metadata": {},
   "outputs": [],
   "source": [
    "from sklearn import svm\n",
    "from scipy.sparse import csr_matrix\n",
    "from sklearn.metrics import classification_report\n",
    "from convokit import Classifier\n",
    "\n",
    "train_corpus = Corpus(utterances=[utt for utt in wiki_corpus.iter_utterances() if utt.meta[\"Binary\"] != 0])\n",
    "clf = Classifier(obj_type=\"utterance\", \n",
    "                        pred_feats=[\"politeness_strategies\"], \n",
    "                        labeller=lambda utt: utt.meta['Binary'] == 1)\n",
    "clf.fit(train_corpus)\n",
    "test_pred = clf.transform(corpus_all)\n",
    "df_pred = clf.summarize(test_pred)\n",
    "df_pred.head()"
   ]
  },
  {
   "cell_type": "markdown",
   "metadata": {},
   "source": [
    "### Convokit's arcs"
   ]
  },
  {
   "cell_type": "code",
   "execution_count": 13,
   "metadata": {},
   "outputs": [],
   "source": [
    "from convokit.convokitPipeline import ConvokitPipeline\n",
    "from convokit.text_processing import TextProcessor\n",
    "from convokit.text_processing import TextParser\n",
    "from convokit.text_processing import TextToArcs\n",
    "\n",
    "def preprocess_text(text):\n",
    "    # copy text to metadata of Utterance\n",
    "    return text\n",
    "\n",
    "def get_corpus_arcs(corpus, verbosity=100):\n",
    "    prep = TextProcessor(proc_fn=preprocess_text, output_field='utt_text')\n",
    "    corpus_prep = prep.transform(corpus)\n",
    "\n",
    "    arc_pipe = ConvokitPipeline([\n",
    "        ('parse_text', TextParser('parsed', input_field='utt_text', verbosity=verbosity)),\n",
    "        ('get_arcs', TextToArcs('arcs', input_field='parsed', verbosity=verbosity))])\n",
    "    corpus_arcs = arc_pipe.transform(corpus_prep)\n",
    "    \n",
    "    return corpus_arcs"
   ]
  },
  {
   "cell_type": "code",
   "execution_count": null,
   "metadata": {},
   "outputs": [],
   "source": [
    "get_corpus_arcs(corpus_all).dump('full-avoidance-corpus', base_path=os.getcwd()+'\\\\'+path)\n",
    "get_corpus_arcs(corpus_avoided).dump('avoidance-corpus', base_path=os.getcwd()+'\\\\'+path)\n",
    "get_corpus_arcs(corpus_not_avoided).dump('non-avoidance-corpus', base_path=os.getcwd()+'\\\\'+path)\n",
    "get_corpus_arcs(corpus_avoided_fight).dump('fight-corpus', base_path=os.getcwd()+'\\\\'+path)\n",
    "get_corpus_arcs(corpus_avoided_flight).dump('flight-corpus', base_path=os.getcwd()+'\\\\'+path)"
   ]
  },
  {
   "cell_type": "markdown",
   "metadata": {},
   "source": [
    "How to load saved corpora from disk? Example below:"
   ]
  },
  {
   "cell_type": "code",
   "execution_count": null,
   "metadata": {},
   "outputs": [],
   "source": [
    "corpus_all = Corpus(os.getcwd()+'\\\\Annotated\\\\full-avoidance-corpus')\n",
    "corpus_avoidance = Corpus(os.getcwd()+'\\\\Annotated\\\\avoidance-corpus')\n",
    "corpus_non_avoidance = Corpus(os.getcwd()+'\\\\Annotated\\\\non-avoidance-corpus')\n",
    "corpus_fight = Corpus(os.getcwd()+'\\\\Annotated\\\\fight-corpus')\n",
    "corpus_flight = Corpus(os.getcwd()+'\\\\Annotated\\\\flight-corpus')"
   ]
  },
  {
   "cell_type": "code",
   "execution_count": null,
   "metadata": {},
   "outputs": [],
   "source": []
  }
 ],
 "metadata": {
  "kernelspec": {
   "display_name": "Python 3",
   "language": "python",
   "name": "python3"
  },
  "language_info": {
   "codemirror_mode": {
    "name": "ipython",
    "version": 3
   },
   "file_extension": ".py",
   "mimetype": "text/x-python",
   "name": "python",
   "nbconvert_exporter": "python",
   "pygments_lexer": "ipython3",
   "version": "3.8.2"
  }
 },
 "nbformat": 4,
 "nbformat_minor": 4
}
