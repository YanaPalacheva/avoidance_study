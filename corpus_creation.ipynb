{
 "cells": [
  {
   "cell_type": "markdown",
   "metadata": {},
   "source": [
    "## Avoidance study: datasets to convokit-style corpora, augmentation with dependency arcs"
   ]
  },
  {
   "cell_type": "code",
   "execution_count": 1,
   "metadata": {},
   "outputs": [],
   "source": [
    "import pandas as pd\n",
    "import numpy as np\n",
    "import os\n",
    "from convokit import Corpus, Utterance, Speaker"
   ]
  },
  {
   "cell_type": "code",
   "execution_count": 2,
   "metadata": {},
   "outputs": [],
   "source": [
    "# todo: test 'path'\n",
    "def make_corpus(avoided=False, type='', path=''):\n",
    "    if not avoided:\n",
    "        df = pd.read_csv(path+\"Avoidance_annotated.csv\")\n",
    "    elif not type:\n",
    "        df = pd.read_csv(path+\"Avoidance_annotated_avoided.csv\")\n",
    "    else:\n",
    "        df = pd.read_csv(path+f\"Avoidance_annotated_avoided_{type}.csv\")\n",
    "    df = df.replace(r'^\\s*$', np.nan, regex=True)\n",
    "    utt_list = []\n",
    "    meta_conversations = {}\n",
    "    for ind, row in df.iterrows():\n",
    "        meta_conversations[row['id_q']] = {'dataset':row['dataset'], 'meta.pair_idx':row['meta.pair_idx'],\n",
    "              'if_q_1':row['if_q_1'], 'avoid_rate_1':row['avoid_rate_1'], 'avoid_type_1':row['avoid_type_1'],\n",
    "              'if_q_2':row['if_q_2'], 'avoid_rate_2':row['avoid_rate_2'], 'avoid_type_2':row['avoid_type_2'],\n",
    "              'if_q_3':row['if_q_3'], 'avoid_rate_3':row['avoid_rate_3'], 'avoid_type_3':row['avoid_type_3'],\n",
    "              'avoid_rate_avg':row['avoid_rate_avg'], 'avoid_type_avg':row['avoid_type_avg']}\n",
    "        utt_a = Utterance(id=row['id_q'], root=row['id_q'], text=row['text_q'], speaker=Speaker(name=\"question\"))\n",
    "        utt_q = Utterance(id=row['id_a'], root=row['id_q'], reply_to=row['id_q'], text=row['text_a'], speaker=Speaker(name=\"answerer\"))\n",
    "        utt_list += [utt_a, utt_q]\n",
    "        \n",
    "    corpus = Corpus(utterances = utt_list)\n",
    "    for conv in corpus.iter_conversations():\n",
    "        conv.meta.update(meta_conversations[conv.get_id()])\n",
    "    return corpus"
   ]
  },
  {
   "cell_type": "markdown",
   "metadata": {},
   "source": [
    "Now we have corpora containing data from our annotated csvs. Next steps - preprocessing."
   ]
  },
  {
   "cell_type": "code",
   "execution_count": 3,
   "metadata": {},
   "outputs": [],
   "source": [
    "corpus_all = make_corpus()\n",
    "corpus_avoided = make_corpus(avoided=True)\n",
    "corpus_avoided_fight = make_corpus(avoided=True, type='fight')\n",
    "corpus_avoided_flight = make_corpus(avoided=True, type='flight')\n",
    "utt = corpus_avoided_fight.random_utterance()"
   ]
  },
  {
   "cell_type": "markdown",
   "metadata": {},
   "source": [
    "Single pipeline: parse text, get arcs"
   ]
  },
  {
   "cell_type": "code",
   "execution_count": 4,
   "metadata": {},
   "outputs": [],
   "source": [
    "from convokit.convokitPipeline import ConvokitPipeline\n",
    "from convokit.text_processing import TextProcessor\n",
    "from convokit.text_processing import TextParser\n",
    "from convokit.text_processing import TextToArcs\n",
    "\n",
    "def preprocess_text(text):\n",
    "    # copy text to metadata of Utterance\n",
    "    return text\n",
    "\n",
    "def get_corpus_arcs(corpus, verbosity=100):\n",
    "    prep = TextProcessor(proc_fn=preprocess_text, output_field='utt_text')\n",
    "    corpus_prep = prep.transform(corpus)\n",
    "\n",
    "    arc_pipe = ConvokitPipeline([\n",
    "        ('parse_text', TextParser('parsed', input_field='utt_text', verbosity=verbosity)),\n",
    "        ('get_arcs', TextToArcs('arcs', input_field='parsed', verbosity=verbosity))])\n",
    "    corpus_arcs = arc_pipe.transform(corpus_prep)\n",
    "\n",
    "    # from convokit.phrasing_motifs import CensorNouns\n",
    "    # from convokit.convokitPipeline import ConvokitPipeline\n",
    "    # their_arc_pipe = ConvokitPipeline([\n",
    "    #     ('censor_nouns', CensorNouns('parsed_censored', verbosity=verbosity)),\n",
    "    #     ('shallow_arcs', TextToArcs('arcs_censored', input_field='parsed_censored', \n",
    "    #                                root_only=False, verbosity=verbosity))])\n",
    "    \n",
    "    return corpus_arcs"
   ]
  },
  {
   "cell_type": "code",
   "execution_count": 5,
   "metadata": {},
   "outputs": [
    {
     "name": "stdout",
     "output_type": "stream",
     "text": [
      "100/844 utterances processed\n",
      "200/844 utterances processed\n",
      "300/844 utterances processed\n",
      "400/844 utterances processed\n",
      "500/844 utterances processed\n",
      "600/844 utterances processed\n",
      "700/844 utterances processed\n",
      "800/844 utterances processed\n",
      "844/844 utterances processed\n",
      "100/844 utterances processed\n",
      "200/844 utterances processed\n",
      "300/844 utterances processed\n",
      "400/844 utterances processed\n",
      "500/844 utterances processed\n",
      "600/844 utterances processed\n",
      "700/844 utterances processed\n",
      "800/844 utterances processed\n",
      "844/844 utterances processed\n",
      "100/346 utterances processed\n",
      "200/346 utterances processed\n",
      "300/346 utterances processed\n",
      "346/346 utterances processed\n",
      "100/346 utterances processed\n",
      "200/346 utterances processed\n",
      "300/346 utterances processed\n",
      "346/346 utterances processed\n",
      "038/038 utterances processed\n",
      "038/038 utterances processed\n",
      "100/262 utterances processed\n",
      "200/262 utterances processed\n",
      "262/262 utterances processed\n",
      "100/262 utterances processed\n",
      "200/262 utterances processed\n",
      "262/262 utterances processed\n"
     ]
    }
   ],
   "source": [
    "get_corpus_arcs(corpus_all).dump('full-avoidance-corpus', base_path=os.getcwd())\n",
    "get_corpus_arcs(corpus_avoided).dump('avoidance-corpus', base_path=os.getcwd())\n",
    "get_corpus_arcs(corpus_avoided_fight).dump('fight-corpus', base_path=os.getcwd())\n",
    "get_corpus_arcs(corpus_avoided_flight).dump('flight-corpus', base_path=os.getcwd())"
   ]
  },
  {
   "cell_type": "code",
   "execution_count": 2,
   "metadata": {},
   "outputs": [],
   "source": [
    "# load corpora from disk\n",
    "\n",
    "corpus_all = Corpus(os.getcwd()+'\\\\Annotated\\\\full-avoidance-corpus')\n",
    "corpus_avoidance = Corpus(os.getcwd()+'\\\\Annotated\\\\avoidance-corpus')\n",
    "corpus_fight = Corpus(os.getcwd()+'\\\\Annotated\\\\fight-corpus')\n",
    "corpus_flight = Corpus(os.getcwd()+'\\\\Annotated\\\\flight-corpus')"
   ]
  },
  {
   "cell_type": "code",
   "execution_count": null,
   "metadata": {},
   "outputs": [],
   "source": []
  }
 ],
 "metadata": {
  "kernelspec": {
   "display_name": "Python 3",
   "language": "python",
   "name": "python3"
  },
  "language_info": {
   "codemirror_mode": {
    "name": "ipython",
    "version": 3
   },
   "file_extension": ".py",
   "mimetype": "text/x-python",
   "name": "python",
   "nbconvert_exporter": "python",
   "pygments_lexer": "ipython3",
   "version": "3.8.2"
  }
 },
 "nbformat": 4,
 "nbformat_minor": 4
}
